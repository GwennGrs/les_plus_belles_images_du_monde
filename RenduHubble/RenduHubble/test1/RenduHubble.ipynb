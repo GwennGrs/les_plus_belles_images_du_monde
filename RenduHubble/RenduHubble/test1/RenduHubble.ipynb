{
 "cells": [
  {
   "cell_type": "code",
   "execution_count": 39,
   "metadata": {},
   "outputs": [
    {
     "name": "stdout",
     "output_type": "stream",
     "text": [
      "(183, 182) (135, 134) (136, 134)\n",
      "(135, 134) (135, 134) (135, 134)\n",
      "(135, 134, 3)\n"
     ]
    }
   ],
   "source": [
    "from astropy.io import fits\n",
    "from skimage.transform import resize\n",
    "import numpy as np\n",
    "import matplotlib.pyplot as plt\n",
    "\n",
    "# Charger les fichiers FITS\n",
    "file_f150w2 = 'F150W2/JWST/jw01074-o009_t002_nircam_f150w2-f162m-sub160p/jw01074-o009_t002_nircam_f150w2-f162m-sub160p_i2d.fits'\n",
    "file_f277w = 'F200_F277/JWST/jw01080-o006_t006_niriss_clearp-f277w-sub128/jw01080-o006_t006_niriss_clearp-f277w-sub128_i2d.fits'\n",
    "file_f444w = 'F444_F277/JWST/jw01080-o006_t006_niriss_clearp-f444w-sub128/jw01080-o006_t006_niriss_clearp-f444w-sub128_i2d.fits'\n",
    "\n",
    "# Charger les données FITS\n",
    "data_f150w2 = fits.getdata(file_f150w2)\n",
    "data_f277w = fits.getdata(file_f277w)\n",
    "data_f444w = fits.getdata(file_f444w)\n",
    "\n",
    "print(data_f150w2.shape, data_f277w.shape, data_f444w.shape)\n",
    "\n",
    "target_shape = (min(data_f150w2.shape[0], data_f277w.shape[0], data_f444w.shape[0]),\n",
    "                min(data_f150w2.shape[1], data_f277w.shape[1], data_f444w.shape[1]))\n",
    "\n",
    "data_f150w2_resized = resize(data_f150w2, target_shape, mode='reflect')\n",
    "data_f277w_resized = resize(data_f277w, target_shape, mode='reflect')\n",
    "data_f444w_resized = resize(data_f444w, target_shape, mode='reflect')\n",
    "\n",
    "print(data_f444w_resized.shape, data_f277w_resized.shape, data_f150w2_resized.shape)\n",
    "\n",
    "\n",
    "# Créer une image en fausses couleurs en combinant les données avec les filtres\n",
    "image_rgb = np.stack([data_f444w_resized, data_f277w_resized, data_f150w2_resized], axis=-1)\n",
    "\n",
    "# Normaliser les données pour une meilleure visualisation\n",
    "image_rgb = (image_rgb - np.min(image_rgb)) / (np.max(image_rgb) - np.min(image_rgb))\n",
    "\n",
    "print(image_rgb.shape)\n"
   ]
  },
  {
   "cell_type": "code",
   "execution_count": 46,
   "metadata": {},
   "outputs": [
    {
     "data": {
      "image/png": "[encoded data removed]",
      "text/plain": [
       "<Figure size 640x480 with 1 Axes>"
      ]
     },
     "metadata": {},
     "output_type": "display_data"
    }
   ],
   "source": [
    "\n",
    "# Afficher l'image résultante\n",
    "plt.imshow(image_rgb, origin='lower')\n",
    "plt.show()\n"
   ]
  }
 ],
 "metadata": {
  "kernelspec": {
   "display_name": "base",
   "language": "python",
   "name": "python3"
  },
  "language_info": {
   "codemirror_mode": {
    "name": "ipython",
    "version": 3
   },
   "file_extension": ".py",
   "mimetype": "text/x-python",
   "name": "python",
   "nbconvert_exporter": "python",
   "pygments_lexer": "ipython3",
   "version": "3.11.5"
  }
 },
 "nbformat": 4,
 "nbformat_minor": 2
}
